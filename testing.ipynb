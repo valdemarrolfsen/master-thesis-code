{
 "cells": [
  {
   "cell_type": "code",
   "execution_count": 9,
   "metadata": {},
   "outputs": [
    {
     "name": "stdout",
     "output_type": "stream",
     "text": [
      "Found 4888 images belonging to 1 classes.\n",
      "Found 4888 images belonging to 1 classes.\n"
     ]
    }
   ],
   "source": [
    "import os\n",
    "from keras.preprocessing.image import ImageDataGenerator\n",
    "\n",
    "datadir = 'data/output'\n",
    "image_dir = os.path.join(datadir, \"examples\")\n",
    "label_dir = os.path.join(datadir, \"labels\")\n",
    "\n",
    "datagen_args = dict(\n",
    "    # set input mean to 0 over the dataset\n",
    "    featurewise_center=False,\n",
    "    # set each sample mean to 0\n",
    "    samplewise_center=False,\n",
    "    # divide inputs by std of dataset\n",
    "    featurewise_std_normalization=False,\n",
    "    # divide each input by its std\n",
    "    samplewise_std_normalization=False,\n",
    "    # apply ZCA whitening\n",
    "    zca_whitening=False,\n",
    "    # randomly rotate images in the range (deg 0 to 180)\n",
    "    rotation_range=0,\n",
    "    # randomly shift images horizontally\n",
    "    width_shift_range=0,\n",
    "    # randomly shift images vertically\n",
    "    height_shift_range=0,\n",
    "    # randomly flip images\n",
    "    horizontal_flip=False,\n",
    "    # randomly flip images\n",
    "    vertical_flip=False)\n",
    "\n",
    "image_datagen = ImageDataGenerator(**datagen_args)\n",
    "label_datagen = ImageDataGenerator(**datagen_args)\n",
    "\n",
    "# Compute quantities required for featurewise normalization\n",
    "# (std, mean, and principal components if ZCA whitening is applied).\n",
    "# Use the same seed for both generators so they return corresponding images\n",
    "seed = 1\n",
    "\n",
    "# image_datagen.fit(images, augment=True, seed=seed)\n",
    "# label_datagen.fit(masks, augment=True, seed=seed)\n",
    "\n",
    "image_generator = image_datagen.flow_from_directory(\n",
    "    image_dir,\n",
    "    save_to_dir='testing',\n",
    "    class_mode=None,\n",
    "    seed=seed)\n",
    "\n",
    "label_generator = label_datagen.flow_from_directory(\n",
    "    label_dir,\n",
    "    save_to_dir='testing',\n",
    "    class_mode=None,\n",
    "    seed=seed)\n",
    "\n",
    "i = 0\n",
    "for bach in label_generator:\n",
    "    if i > 10:\n",
    "        break\n",
    "    i += 1\n",
    "    "
   ]
  },
  {
   "cell_type": "code",
   "execution_count": 5,
   "metadata": {},
   "outputs": [],
   "source": []
  },
  {
   "cell_type": "code",
   "execution_count": null,
   "metadata": {},
   "outputs": [],
   "source": []
  }
 ],
 "metadata": {
  "kernelspec": {
   "display_name": "masterthesis",
   "language": "python",
   "name": "masterthesis"
  },
  "language_info": {
   "codemirror_mode": {
    "name": "ipython",
    "version": 3
   },
   "file_extension": ".py",
   "mimetype": "text/x-python",
   "name": "python",
   "nbconvert_exporter": "python",
   "pygments_lexer": "ipython3",
   "version": "3.5.2"
  }
 },
 "nbformat": 4,
 "nbformat_minor": 2
}
